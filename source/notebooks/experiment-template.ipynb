{
 "cells": [
  {
   "cell_type": "code",
   "execution_count": null,
   "id": "c5f3fe51",
   "metadata": {},
   "outputs": [],
   "source": [
    "%run \"/code/source/notebooks/notebook_settings.py\"\n",
    "import logging\n",
    "import helpsk as hlp\n",
    "from helpsk.utility import read_pickle, Timer\n",
    "from helpsk.sklearn_eval import MLExperimentResults\n",
    "\n",
    "import source.config.config as config\n",
    "from source.service.model_registry import ModelRegistry\n",
    "\n",
    "logging.info(\"Running experiment notebook for last run.\")"
   ]
  },
  {
   "cell_type": "markdown",
   "id": "1930b7e6",
   "metadata": {
    "pycharm": {
     "name": "#%% md\n"
    }
   },
   "source": [
    "# Get Latest Experiment Run from MLFlow"
   ]
  },
  {
   "cell_type": "code",
   "execution_count": null,
   "id": "721f9309",
   "metadata": {},
   "outputs": [],
   "source": [
    "registry = ModelRegistry(tracking_uri=config.experiment_server_url())\n",
    "experiment = registry.get_experiment_by_name(exp_name=config.experiment_name())\n",
    "logging.info(f\"Experiment id: {experiment.last_run.exp_id}\")\n",
    "logging.info(f\"Experiment name: {experiment.last_run.exp_name}\")\n",
    "logging.info(f\"Run id: {experiment.last_run.run_id}\")\n",
    "logging.info(f\"Metric(s): {experiment.last_run.metrics}\")"
   ]
  },
  {
   "cell_type": "markdown",
   "id": "231134bb",
   "metadata": {},
   "source": [
    "# Last Run vs Production"
   ]
  },
  {
   "cell_type": "markdown",
   "id": "f7b9cbd5",
   "metadata": {},
   "source": [
    "What is the metric/performance from the model associated with the last run?"
   ]
  },
  {
   "cell_type": "code",
   "execution_count": null,
   "id": "e9c4e710",
   "metadata": {},
   "outputs": [],
   "source": [
    "logging.info(f\"last run metrics: {experiment.last_run.metrics}\")"
   ]
  },
  {
   "cell_type": "markdown",
   "id": "edb482b7",
   "metadata": {},
   "source": [
    "What is the metric/performance of the model in production?"
   ]
  },
  {
   "cell_type": "code",
   "execution_count": null,
   "id": "f99d7bc0",
   "metadata": {},
   "outputs": [],
   "source": [
    "production_run = registry.get_production_run(model_name=config.model_name())\n",
    "logging.info(f\"production run metrics: {production_run.metrics}\")"
   ]
  },
  {
   "cell_type": "markdown",
   "id": "3d710a73",
   "metadata": {},
   "source": [
    "# Last Run"
   ]
  },
  {
   "cell_type": "code",
   "execution_count": null,
   "id": "3cbcc094",
   "metadata": {},
   "outputs": [],
   "source": [
    "# underlying mlflow object\n",
    "experiment.last_run.mlflow_entity"
   ]
  },
  {
   "cell_type": "markdown",
   "id": "91269c28",
   "metadata": {},
   "source": [
    "---"
   ]
  },
  {
   "cell_type": "markdown",
   "id": "94ce5ff7",
   "metadata": {},
   "source": [
    "# Load Training & Test Data Info"
   ]
  },
  {
   "cell_type": "code",
   "execution_count": null,
   "id": "306eb67c",
   "metadata": {},
   "outputs": [],
   "source": [
    "with Timer(\"Loading training/test datasets\"):\n",
    "    X_train = experiment.last_run.download_artifact(artifact_name='x_train.pkl', read_from=read_pickle)\n",
    "    X_test = experiment.last_run.download_artifact(artifact_name='x_test.pkl', read_from=read_pickle)\n",
    "    y_train = experiment.last_run.download_artifact(artifact_name='y_train.pkl', read_from=read_pickle)\n",
    "    y_test = experiment.last_run.download_artifact(artifact_name='y_test.pkl', read_from=read_pickle)"
   ]
  },
  {
   "cell_type": "code",
   "execution_count": null,
   "id": "4c9fbfbf",
   "metadata": {},
   "outputs": [],
   "source": [
    "logging.info(f\"training X shape: {X_train.shape}\")\n",
    "logging.info(f\"training y length: {len(y_train)}\")\n",
    "\n",
    "logging.info(f\"test X shape: {X_test.shape}\")\n",
    "logging.info(f\"test y length: {len(y_test)}\")"
   ]
  },
  {
   "cell_type": "code",
   "execution_count": null,
   "id": "fb45ffa3",
   "metadata": {},
   "outputs": [],
   "source": [
    "np.unique(y_train, return_counts=True)"
   ]
  },
  {
   "cell_type": "code",
   "execution_count": null,
   "id": "4e3d1362",
   "metadata": {},
   "outputs": [],
   "source": [
    "\n",
    "train_y_proportion = np.unique(y_train, return_counts=True)[1] \\\n",
    "    / np.sum(np.unique(y_train, return_counts=True)[1])\n",
    "logging.info(f\"balance of y in training: {train_y_proportion}\")"
   ]
  },
  {
   "cell_type": "code",
   "execution_count": null,
   "id": "216eb8e1",
   "metadata": {},
   "outputs": [],
   "source": [
    "test_y_proportion = np.unique(y_test, return_counts=True)[1] \\\n",
    "    / np.sum(np.unique(y_test, return_counts=True)[1])\n",
    "logging.info(f\"balance of y in test: {test_y_proportion}\")"
   ]
  },
  {
   "cell_type": "markdown",
   "id": "cf982907",
   "metadata": {},
   "source": [
    "# Cross Validation Results"
   ]
  },
  {
   "cell_type": "markdown",
   "id": "352a2dd8",
   "metadata": {},
   "source": [
    "## Best Scores/Params"
   ]
  },
  {
   "cell_type": "code",
   "execution_count": null,
   "id": "9532f090",
   "metadata": {},
   "outputs": [],
   "source": [
    "results = experiment.last_run.download_artifact(\n",
    "    artifact_name='experiment.yaml',\n",
    "    read_from=MLExperimentResults.from_yaml_file\n",
    ")\n",
    "logging.info(f\"Best Score: {results.best_score}\")\n",
    "logging.info(f\"Best Params: {results.best_params}\")"
   ]
  },
  {
   "cell_type": "code",
   "execution_count": null,
   "id": "76f52f3f",
   "metadata": {
    "scrolled": true
   },
   "outputs": [],
   "source": [
    "# Best model from each model-type.\n",
    "df = results.to_formatted_dataframe(return_style=False, include_rank=True)\n",
    "df[\"model_rank\"] = df.groupby(\"model\")[\"roc_auc Mean\"].rank(method=\"first\", ascending=False)\n",
    "df.query('model_rank == 1')"
   ]
  },
  {
   "cell_type": "code",
   "execution_count": null,
   "id": "5d25ab96",
   "metadata": {
    "pycharm": {
     "name": "#%%\n"
    },
    "scrolled": false
   },
   "outputs": [],
   "source": [
    "results.to_formatted_dataframe(return_style=True,\n",
    "                               include_rank=True,\n",
    "                               num_rows=500)"
   ]
  },
  {
   "cell_type": "code",
   "execution_count": null,
   "id": "3d4d1a95",
   "metadata": {
    "scrolled": false
   },
   "outputs": [],
   "source": [
    "results.to_formatted_dataframe(query='model == \"RandomForestClassifier()\"', include_rank=True)"
   ]
  },
  {
   "cell_type": "code",
   "execution_count": null,
   "id": "35644690",
   "metadata": {
    "scrolled": false
   },
   "outputs": [],
   "source": [
    "results.to_formatted_dataframe(query='model == \"LogisticRegression()\"', include_rank=True)"
   ]
  },
  {
   "cell_type": "markdown",
   "id": "59fde126",
   "metadata": {},
   "source": [
    "## BayesSearchCV Performance Over Time"
   ]
  },
  {
   "cell_type": "code",
   "execution_count": null,
   "id": "69b25b60",
   "metadata": {},
   "outputs": [],
   "source": [
    "results.plot_performance_across_trials(facet_by='model').show()"
   ]
  },
  {
   "cell_type": "code",
   "execution_count": null,
   "id": "96106468",
   "metadata": {},
   "outputs": [],
   "source": [
    "results.plot_performance_across_trials(query='model == \"RandomForestClassifier()\"').show()"
   ]
  },
  {
   "cell_type": "markdown",
   "id": "a6f5be61",
   "metadata": {},
   "source": [
    "---"
   ]
  },
  {
   "cell_type": "markdown",
   "id": "49f22c15",
   "metadata": {},
   "source": [
    "## Variable Performance Over Time"
   ]
  },
  {
   "cell_type": "code",
   "execution_count": null,
   "id": "e100ea68",
   "metadata": {},
   "outputs": [],
   "source": [
    "results.plot_parameter_values_across_trials(query='model == \"RandomForestClassifier()\"').show()"
   ]
  },
  {
   "cell_type": "markdown",
   "id": "e23227a1",
   "metadata": {},
   "source": [
    "---"
   ]
  },
  {
   "cell_type": "markdown",
   "id": "3a27957a",
   "metadata": {},
   "source": [
    "## Scatter Matrix"
   ]
  },
  {
   "cell_type": "code",
   "execution_count": null,
   "id": "03852712",
   "metadata": {
    "scrolled": true
   },
   "outputs": [],
   "source": [
    "# results.plot_scatter_matrix(query='model == \"RandomForestClassifier()\"',\n",
    "#                             height=1000, width=1000).show()"
   ]
  },
  {
   "cell_type": "markdown",
   "id": "c6159d18",
   "metadata": {},
   "source": [
    "---"
   ]
  },
  {
   "cell_type": "markdown",
   "id": "ee749684",
   "metadata": {},
   "source": [
    "## Variable Performance - Numeric"
   ]
  },
  {
   "cell_type": "code",
   "execution_count": null,
   "id": "39189dad",
   "metadata": {},
   "outputs": [],
   "source": [
    "results.plot_performance_numeric_params(query='model == \"RandomForestClassifier()\"',\n",
    "                                        height=800)"
   ]
  },
  {
   "cell_type": "code",
   "execution_count": null,
   "id": "7a76f2c9",
   "metadata": {},
   "outputs": [],
   "source": [
    "results.plot_parallel_coordinates(query='model == \"RandomForestClassifier()\"').show()"
   ]
  },
  {
   "cell_type": "markdown",
   "id": "b8835e43",
   "metadata": {},
   "source": [
    "---"
   ]
  },
  {
   "cell_type": "markdown",
   "id": "030936ad",
   "metadata": {},
   "source": [
    "## Variable Performance - Non-Numeric"
   ]
  },
  {
   "cell_type": "code",
   "execution_count": null,
   "id": "9fe0a693",
   "metadata": {},
   "outputs": [],
   "source": [
    "results.plot_performance_non_numeric_params(query='model == \"RandomForestClassifier()\"').show()"
   ]
  },
  {
   "cell_type": "markdown",
   "id": "ec79358c",
   "metadata": {
    "pycharm": {
     "name": "#%% md\n"
    }
   },
   "source": [
    "---"
   ]
  },
  {
   "cell_type": "code",
   "execution_count": null,
   "id": "a4cb1cd0",
   "metadata": {},
   "outputs": [],
   "source": [
    "results.plot_score_vs_parameter(\n",
    "    query='model == \"RandomForestClassifier()\"',\n",
    "    parameter='max_features',\n",
    "    size='max_depth',\n",
    "    color='encoder',\n",
    ")"
   ]
  },
  {
   "cell_type": "markdown",
   "id": "b09bd440",
   "metadata": {},
   "source": [
    "---"
   ]
  },
  {
   "cell_type": "code",
   "execution_count": null,
   "id": "05670ea0",
   "metadata": {},
   "outputs": [],
   "source": [
    "# results.plot_parameter_vs_parameter(\n",
    "#     query='model == \"XGBClassifier()\"',\n",
    "#     parameter_x='colsample_bytree',\n",
    "#     parameter_y='learning_rate',\n",
    "#     size='max_depth'\n",
    "# )"
   ]
  },
  {
   "cell_type": "code",
   "execution_count": null,
   "id": "aab85748",
   "metadata": {},
   "outputs": [],
   "source": [
    "# results.plot_parameter_vs_parameter(\n",
    "#     query='model == \"XGBClassifier()\"',\n",
    "#     parameter_x='colsample_bytree',\n",
    "#     parameter_y='learning_rate',\n",
    "#     size='imputer'\n",
    "# )"
   ]
  },
  {
   "cell_type": "markdown",
   "id": "99721fb8",
   "metadata": {},
   "source": [
    "---"
   ]
  },
  {
   "cell_type": "markdown",
   "id": "6abb1968",
   "metadata": {},
   "source": [
    "# Last Run - Test Set Performance"
   ]
  },
  {
   "cell_type": "code",
   "execution_count": null,
   "id": "df43085d",
   "metadata": {},
   "outputs": [],
   "source": [
    "last_model = experiment.last_run.download_artifact(\n",
    "    artifact_name='model/model.pkl',\n",
    "    read_from=read_pickle\n",
    ")\n",
    "print(type(last_model.model))"
   ]
  },
  {
   "cell_type": "code",
   "execution_count": null,
   "id": "c83b09a1",
   "metadata": {},
   "outputs": [],
   "source": [
    "last_model"
   ]
  },
  {
   "cell_type": "code",
   "execution_count": null,
   "id": "3b256e43",
   "metadata": {},
   "outputs": [],
   "source": [
    "test_predictions = last_model.predict(X_test)\n",
    "test_predictions[0:10]"
   ]
  },
  {
   "cell_type": "code",
   "execution_count": null,
   "id": "6abd219e",
   "metadata": {},
   "outputs": [],
   "source": [
    "evaluator = hlp.sklearn_eval.TwoClassEvaluator(\n",
    "    actual_values=y_test,\n",
    "    predicted_scores=test_predictions,\n",
    "    score_threshold=0.37\n",
    ")"
   ]
  },
  {
   "cell_type": "code",
   "execution_count": null,
   "id": "1dcd2c01",
   "metadata": {},
   "outputs": [],
   "source": [
    "evaluator.plot_actual_vs_predict_histogram()"
   ]
  },
  {
   "cell_type": "code",
   "execution_count": null,
   "id": "7e98d47c",
   "metadata": {},
   "outputs": [],
   "source": [
    "evaluator.plot_confusion_matrix()"
   ]
  },
  {
   "cell_type": "code",
   "execution_count": null,
   "id": "2fc49b20",
   "metadata": {},
   "outputs": [],
   "source": [
    "evaluator.all_metrics_df(return_style=True,\n",
    "                         dummy_classifier_strategy=['prior', 'constant'],\n",
    "                         round_by=3)"
   ]
  },
  {
   "cell_type": "code",
   "execution_count": null,
   "id": "bc9457e9",
   "metadata": {},
   "outputs": [],
   "source": [
    "evaluator.plot_roc_auc_curve().show()"
   ]
  },
  {
   "cell_type": "code",
   "execution_count": null,
   "id": "9233e119",
   "metadata": {},
   "outputs": [],
   "source": [
    "evaluator.plot_precision_recall_auc_curve().show()"
   ]
  },
  {
   "cell_type": "code",
   "execution_count": null,
   "id": "2e816815",
   "metadata": {},
   "outputs": [],
   "source": [
    "evaluator.plot_threshold_curves(score_threshold_range=(0.1, 0.7)).show()"
   ]
  },
  {
   "cell_type": "code",
   "execution_count": null,
   "id": "70aa5d47",
   "metadata": {},
   "outputs": [],
   "source": [
    "evaluator.plot_precision_recall_tradeoff(score_threshold_range=(0.1, 0.6)).show()"
   ]
  },
  {
   "cell_type": "code",
   "execution_count": null,
   "id": "5b729774",
   "metadata": {},
   "outputs": [],
   "source": [
    "evaluator.calculate_lift_gain(return_style=True)"
   ]
  },
  {
   "cell_type": "markdown",
   "id": "12d03792",
   "metadata": {},
   "source": [
    "---"
   ]
  },
  {
   "cell_type": "markdown",
   "id": "1edf23fd",
   "metadata": {},
   "source": [
    "# Production Model - Test Set Performance"
   ]
  },
  {
   "cell_type": "code",
   "execution_count": null,
   "id": "91af6ea3",
   "metadata": {},
   "outputs": [],
   "source": [
    "production_model = production_run.download_artifact(\n",
    "    artifact_name='model/model.pkl',\n",
    "    read_from=read_pickle\n",
    ")\n",
    "print(type(production_model.model))"
   ]
  },
  {
   "cell_type": "code",
   "execution_count": null,
   "id": "c1159ef5",
   "metadata": {},
   "outputs": [],
   "source": [
    "production_model"
   ]
  },
  {
   "cell_type": "code",
   "execution_count": null,
   "id": "59b0962b",
   "metadata": {},
   "outputs": [],
   "source": [
    "test_predictions = production_model.predict(X_test)\n",
    "test_predictions[0:10]"
   ]
  },
  {
   "cell_type": "code",
   "execution_count": null,
   "id": "ffb609f3",
   "metadata": {},
   "outputs": [],
   "source": [
    "evaluator = hlp.sklearn_eval.TwoClassEvaluator(\n",
    "    actual_values=y_test,\n",
    "    predicted_scores=test_predictions,\n",
    "    score_threshold=0.37\n",
    ")"
   ]
  },
  {
   "cell_type": "code",
   "execution_count": null,
   "id": "047b1275",
   "metadata": {},
   "outputs": [],
   "source": [
    "evaluator.plot_actual_vs_predict_histogram()"
   ]
  },
  {
   "cell_type": "code",
   "execution_count": null,
   "id": "b2a10461",
   "metadata": {},
   "outputs": [],
   "source": [
    "evaluator.plot_confusion_matrix()"
   ]
  },
  {
   "cell_type": "code",
   "execution_count": null,
   "id": "6ad962d9",
   "metadata": {},
   "outputs": [],
   "source": [
    "evaluator.all_metrics_df(return_style=True,\n",
    "                         dummy_classifier_strategy=['prior', 'constant'],\n",
    "                         round_by=3)"
   ]
  },
  {
   "cell_type": "code",
   "execution_count": null,
   "id": "346f2bf7",
   "metadata": {},
   "outputs": [],
   "source": [
    "evaluator.plot_roc_auc_curve().show()"
   ]
  },
  {
   "cell_type": "code",
   "execution_count": null,
   "id": "adb01e2d",
   "metadata": {},
   "outputs": [],
   "source": [
    "evaluator.plot_precision_recall_auc_curve().show()"
   ]
  },
  {
   "cell_type": "code",
   "execution_count": null,
   "id": "a4567e6b",
   "metadata": {},
   "outputs": [],
   "source": [
    "evaluator.plot_threshold_curves(score_threshold_range=(0.1, 0.7)).show()"
   ]
  },
  {
   "cell_type": "code",
   "execution_count": null,
   "id": "302ff8f5",
   "metadata": {},
   "outputs": [],
   "source": [
    "evaluator.plot_precision_recall_tradeoff(score_threshold_range=(0.1, 0.6)).show()"
   ]
  },
  {
   "cell_type": "code",
   "execution_count": null,
   "id": "69a68d13",
   "metadata": {},
   "outputs": [],
   "source": [
    "evaluator.calculate_lift_gain(return_style=True)"
   ]
  },
  {
   "cell_type": "markdown",
   "id": "a2019017",
   "metadata": {},
   "source": [
    "---"
   ]
  }
 ],
 "metadata": {
  "kernelspec": {
   "display_name": "Python 3.9.13 64-bit",
   "language": "python",
   "name": "python3"
  },
  "language_info": {
   "codemirror_mode": {
    "name": "ipython",
    "version": 3
   },
   "file_extension": ".py",
   "mimetype": "text/x-python",
   "name": "python",
   "nbconvert_exporter": "python",
   "pygments_lexer": "ipython3",
   "version": "3.9.13"
  },
  "toc": {
   "base_numbering": 1,
   "nav_menu": {},
   "number_sections": false,
   "sideBar": true,
   "skip_h1_title": false,
   "title_cell": "Table of Contents",
   "title_sidebar": "Contents",
   "toc_cell": false,
   "toc_position": {
    "height": "calc(100% - 180px)",
    "left": "10px",
    "top": "150px",
    "width": "258px"
   },
   "toc_section_display": true,
   "toc_window_display": true
  },
  "vscode": {
   "interpreter": {
    "hash": "949777d72b0d2535278d3dc13498b2535136f6dfe0678499012e853ee9abcab1"
   }
  }
 },
 "nbformat": 4,
 "nbformat_minor": 5
}
